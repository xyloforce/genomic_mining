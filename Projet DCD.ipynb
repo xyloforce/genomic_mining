{
 "cells": [
  {
   "cell_type": "markdown",
   "metadata": {},
   "source": [
    "# Notebook pour projet DCD\n",
    "\n",
    "## Roadmap\n",
    "\n",
    "1 - import all metrics in an array of shape *nsample* × *nfeatures*\n"
   ]
  },
  {
   "cell_type": "code",
   "execution_count": 1,
   "metadata": {
    "ExecuteTime": {
     "end_time": "2021-01-01T17:34:38.527643Z",
     "start_time": "2021-01-01T17:34:26.213951Z"
    }
   },
   "outputs": [],
   "source": [
    "import sklearn.cluster\n",
    "import matplotlib.pyplot as plt\n",
    "import numpy\n",
    "import pandas\n",
    "import glob"
   ]
  },
  {
   "cell_type": "code",
   "execution_count": 2,
   "metadata": {
    "ExecuteTime": {
     "end_time": "2021-01-01T17:35:23.688344Z",
     "start_time": "2021-01-01T17:35:00.478003Z"
    }
   },
   "outputs": [],
   "source": [
    "arraylist = list()\n",
    "for filename in glob.glob(\"Metrics/*.tsv\"):\n",
    "    csv_df = pandas.read_csv(filename, delimiter = \"\\t\", index_col=0)\n",
    "    arraylist.append(csv_df)"
   ]
  },
  {
   "cell_type": "code",
   "execution_count": 3,
   "metadata": {
    "ExecuteTime": {
     "end_time": "2021-01-01T17:35:32.404767Z",
     "start_time": "2021-01-01T17:35:31.458360Z"
    }
   },
   "outputs": [],
   "source": [
    "np_list = list()\n",
    "for array in arraylist:\n",
    "    shape = array.shape\n",
    "    array_nonacol = array.dropna(axis=0, thresh = shape[1] - 10000)\n",
    "    array_nona = array_nonacol.dropna(axis = 1)\n",
    "    np_list.append(array_nona)"
   ]
  },
  {
   "cell_type": "code",
   "execution_count": 4,
   "metadata": {
    "ExecuteTime": {
     "end_time": "2021-01-01T17:38:00.115476Z",
     "start_time": "2021-01-01T17:38:00.077665Z"
    }
   },
   "outputs": [],
   "source": [
    "# we need all rows and columns names that are not common to all the arrays\n",
    "columns = set(np_list[0].columns)\n",
    "rows = set(np_list[0].index)\n",
    "cols_todel = list()\n",
    "rows_todel = list()\n",
    "\n",
    "for array in np_list: # first get all common elements\n",
    "    rows = rows.intersection(set(array.index))\n",
    "    columns = columns.intersection(set(array.columns))\n",
    "\n",
    "for array in np_list: # then get the diff for each array\n",
    "    rows_todel.append(set(array.index) - rows)\n",
    "    cols_todel.append(set(array.columns) - columns)"
   ]
  },
  {
   "cell_type": "code",
   "execution_count": 5,
   "metadata": {
    "ExecuteTime": {
     "end_time": "2021-01-01T17:41:19.854298Z",
     "start_time": "2021-01-01T17:41:19.805296Z"
    }
   },
   "outputs": [],
   "source": [
    "stackable_arrays = list()\n",
    "for array, rows, cols in zip(np_list, rows_todel, cols_todel):\n",
    "    temp = array.drop(index=rows)\n",
    "    stackable_arrays.append(temp.drop(columns = cols))"
   ]
  },
  {
   "cell_type": "code",
   "execution_count": 12,
   "metadata": {
    "ExecuteTime": {
     "end_time": "2021-01-01T18:31:07.285092Z",
     "start_time": "2021-01-01T18:31:07.253459Z"
    },
    "scrolled": true
   },
   "outputs": [
    {
     "data": {
      "text/plain": [
       "(4, 57, 597)"
      ]
     },
     "execution_count": 12,
     "metadata": {},
     "output_type": "execute_result"
    }
   ],
   "source": [
    "stacked_arrays = numpy.stack([i.to_numpy() for i in stackable_arrays])\n",
    "stacked_arrays.shape"
   ]
  },
  {
   "cell_type": "code",
   "execution_count": 28,
   "metadata": {
    "ExecuteTime": {
     "end_time": "2021-01-01T19:46:01.233788Z",
     "start_time": "2021-01-01T19:46:01.209854Z"
    }
   },
   "outputs": [
    {
     "name": "stdout",
     "output_type": "stream",
     "text": [
      "[[   39.42          42.66          44.46       ...    42.58\n",
      "     40.97701149    41.60662824]\n",
      " [   42.42144263    46.38686209    52.71795175 ...    50.71868583\n",
      "     47.42885743    48.04043511]\n",
      " [ 6919.         23911.         16142.         ...     0.\n",
      "   5475.         30121.        ]\n",
      " [   38.98          39.16          46.08208955 ...    45.2\n",
      "     41.45356662    44.79389313]]\n"
     ]
    }
   ],
   "source": [
    "# metrics : species : genes\n",
    "x = stacked_arrays[:,1,:]\n",
    "print(x)"
   ]
  },
  {
   "cell_type": "code",
   "execution_count": 35,
   "metadata": {
    "ExecuteTime": {
     "end_time": "2021-01-01T20:01:16.626221Z",
     "start_time": "2021-01-01T20:01:16.419603Z"
    }
   },
   "outputs": [
    {
     "ename": "TypeError",
     "evalue": "scatter() missing 1 required positional argument: 'y'",
     "output_type": "error",
     "traceback": [
      "\u001b[0;31m---------------------------------------------------------------------------\u001b[0m",
      "\u001b[0;31mTypeError\u001b[0m                                 Traceback (most recent call last)",
      "\u001b[0;32m<ipython-input-35-5221192b325b>\u001b[0m in \u001b[0;36m<module>\u001b[0;34m\u001b[0m\n\u001b[1;32m      2\u001b[0m \u001b[0mlabels\u001b[0m \u001b[0;34m=\u001b[0m \u001b[0msc\u001b[0m\u001b[0;34m.\u001b[0m\u001b[0mlabels_\u001b[0m\u001b[0;34m\u001b[0m\u001b[0;34m\u001b[0m\u001b[0m\n\u001b[1;32m      3\u001b[0m \u001b[0;34m\u001b[0m\u001b[0m\n\u001b[0;32m----> 4\u001b[0;31m \u001b[0mplt\u001b[0m\u001b[0;34m.\u001b[0m\u001b[0mscatter\u001b[0m\u001b[0;34m(\u001b[0m\u001b[0mx\u001b[0m\u001b[0;34m,\u001b[0m \u001b[0mc\u001b[0m\u001b[0;34m=\u001b[0m\u001b[0mlabels\u001b[0m\u001b[0;34m)\u001b[0m\u001b[0;34m\u001b[0m\u001b[0;34m\u001b[0m\u001b[0m\n\u001b[0m\u001b[1;32m      5\u001b[0m \u001b[0mplt\u001b[0m\u001b[0;34m.\u001b[0m\u001b[0mshow\u001b[0m\u001b[0;34m(\u001b[0m\u001b[0;34m)\u001b[0m\u001b[0;34m\u001b[0m\u001b[0;34m\u001b[0m\u001b[0m\n",
      "\u001b[0;31mTypeError\u001b[0m: scatter() missing 1 required positional argument: 'y'"
     ]
    }
   ],
   "source": [
    "sc = sklearn.cluster.KMeans(n_clusters=2).fit(x)\n",
    "labels = sc.labels_\n",
    "\n",
    "plt.scatter(x, c=labels)\n",
    "plt.show()"
   ]
  },
  {
   "cell_type": "code",
   "execution_count": 43,
   "metadata": {
    "ExecuteTime": {
     "end_time": "2021-01-01T20:15:52.534415Z",
     "start_time": "2021-01-01T20:15:52.521848Z"
    }
   },
   "outputs": [
    {
     "data": {
      "text/plain": [
       "Int64Index([  10020,   10036,   10047,   10090,   10093,   10141,   10160,\n",
       "              10181,  125878,   13146,  132908, 1737458,  176946,  181119,\n",
       "             185453, 1868482,  188379,   27679,   28737,   29078,   30538,\n",
       "              30608,  336983,   35019,   37293,   38654,  419612,   42254,\n",
       "             482537,   48883,   51338,   55661,  591936,   61621,   61622,\n",
       "              79684,  885580,    8954,    9031,    9233,    9238,    9531,\n",
       "               9544,    9555,    9598,    9601,    9685,    9691,    9708,\n",
       "               9713,    9749,    9785,    9793,    9796,    9798,    9978,\n",
       "               9986],\n",
       "           dtype='int64', name='genome reference')"
      ]
     },
     "execution_count": 43,
     "metadata": {},
     "output_type": "execute_result"
    }
   ],
   "source": [
    "stackable_arrays[0].index"
   ]
  },
  {
   "cell_type": "code",
   "execution_count": 41,
   "metadata": {
    "ExecuteTime": {
     "end_time": "2021-01-01T10:04:27.780324Z",
     "start_time": "2021-01-01T10:04:27.741291Z"
    },
    "scrolled": true
   },
   "outputs": [
    {
     "ename": "MemoryError",
     "evalue": "Unable to allocate 52.7 TiB for an array with shape (57, 597, 597, 597, 597) and data type float64",
     "output_type": "error",
     "traceback": [
      "\u001b[0;31m---------------------------------------------------------------------------\u001b[0m",
      "\u001b[0;31mMemoryError\u001b[0m                               Traceback (most recent call last)",
      "\u001b[0;32m<ipython-input-41-e42183f7f419>\u001b[0m in \u001b[0;36m<module>\u001b[0;34m\u001b[0m\n\u001b[1;32m      2\u001b[0m \u001b[0mshape\u001b[0m\u001b[0;34m.\u001b[0m\u001b[0mappend\u001b[0m\u001b[0;34m(\u001b[0m\u001b[0mstackable_arrays\u001b[0m\u001b[0;34m[\u001b[0m\u001b[0;36m0\u001b[0m\u001b[0;34m]\u001b[0m\u001b[0;34m.\u001b[0m\u001b[0mshape\u001b[0m\u001b[0;34m[\u001b[0m\u001b[0;36m0\u001b[0m\u001b[0;34m]\u001b[0m\u001b[0;34m)\u001b[0m \u001b[0;31m# first get index col size\u001b[0m\u001b[0;34m\u001b[0m\u001b[0;34m\u001b[0m\u001b[0m\n\u001b[1;32m      3\u001b[0m \u001b[0mshape\u001b[0m \u001b[0;34m+=\u001b[0m\u001b[0;34m[\u001b[0m\u001b[0mi\u001b[0m\u001b[0;34m.\u001b[0m\u001b[0mshape\u001b[0m\u001b[0;34m[\u001b[0m\u001b[0;36m1\u001b[0m\u001b[0;34m]\u001b[0m \u001b[0;32mfor\u001b[0m \u001b[0mi\u001b[0m \u001b[0;32min\u001b[0m \u001b[0mstackable_arrays\u001b[0m\u001b[0;34m]\u001b[0m \u001b[0;31m# then get all cols\u001b[0m\u001b[0;34m\u001b[0m\u001b[0;34m\u001b[0m\u001b[0m\n\u001b[0;32m----> 4\u001b[0;31m \u001b[0mstacked_array\u001b[0m \u001b[0;34m=\u001b[0m \u001b[0mnumpy\u001b[0m\u001b[0;34m.\u001b[0m\u001b[0mzeros\u001b[0m\u001b[0;34m(\u001b[0m\u001b[0mshape\u001b[0m\u001b[0;34m)\u001b[0m\u001b[0;34m\u001b[0m\u001b[0;34m\u001b[0m\u001b[0m\n\u001b[0m",
      "\u001b[0;31mMemoryError\u001b[0m: Unable to allocate 52.7 TiB for an array with shape (57, 597, 597, 597, 597) and data type float64"
     ]
    }
   ],
   "source": [
    "shape = list()\n",
    "shape.append(stackable_arrays[0].shape[0]) # first get index col size\n",
    "shape +=[i.shape[1] for i in stackable_arrays] # then get all cols\n",
    "stacked_array = numpy.zeros(shape)"
   ]
  },
  {
   "cell_type": "code",
   "execution_count": null,
   "metadata": {},
   "outputs": [],
   "source": [
    "shape = numpy.shape(csv_df)\n",
    "csv_nona_row = csv_df.dropna(axis = 0, thresh = shape[1] - 10000)\n",
    "csv_nona_col = csv_nona_row.dropna(axis = 1)"
   ]
  },
  {
   "cell_type": "code",
   "execution_count": 17,
   "metadata": {
    "ExecuteTime": {
     "end_time": "2020-12-27T19:06:36.786933Z",
     "start_time": "2020-12-27T19:06:36.270129Z"
    }
   },
   "outputs": [],
   "source": [
    "x = csv_nona_col.to_numpy()\n",
    "sc = sklearn.cluster.KMeans(n_clusters=2).fit(x)"
   ]
  },
  {
   "cell_type": "code",
   "execution_count": 18,
   "metadata": {
    "ExecuteTime": {
     "end_time": "2020-12-27T19:06:40.840396Z",
     "start_time": "2020-12-27T19:06:40.364349Z"
    }
   },
   "outputs": [
    {
     "data": {
      "image/png": "[encoded data removed]",
      "text/plain": [
       "<Figure size 432x288 with 1 Axes>"
      ]
     },
     "metadata": {
      "needs_background": "light"
     },
     "output_type": "display_data"
    }
   ],
   "source": [
    "labels = sc.labels_\n",
    "\n",
    "plt.scatter(x[:,0], x[:,1], c=labels)\n",
    "plt.show()"
   ]
  },
  {
   "cell_type": "code",
   "execution_count": 10,
   "metadata": {
    "ExecuteTime": {
     "end_time": "2021-01-01T08:49:52.983385Z",
     "start_time": "2021-01-01T08:49:52.797659Z"
    }
   },
   "outputs": [
    {
     "data": {
      "text/html": [
       "<div>\n",
       "<style scoped>\n",
       "    .dataframe tbody tr th:only-of-type {\n",
       "        vertical-align: middle;\n",
       "    }\n",
       "\n",
       "    .dataframe tbody tr th {\n",
       "        vertical-align: top;\n",
       "    }\n",
       "\n",
       "    .dataframe thead th {\n",
       "        text-align: right;\n",
       "    }\n",
       "</style>\n",
       "<table border=\"1\" class=\"dataframe\">\n",
       "  <thead>\n",
       "    <tr style=\"text-align: right;\">\n",
       "      <th></th>\n",
       "      <th>149685</th>\n",
       "      <th>8992</th>\n",
       "      <th>55255</th>\n",
       "      <th>8399</th>\n",
       "      <th>4233</th>\n",
       "      <th>51510</th>\n",
       "      <th>11214</th>\n",
       "      <th>51726</th>\n",
       "      <th>4649</th>\n",
       "      <th>4201</th>\n",
       "      <th>...</th>\n",
       "      <th>2629</th>\n",
       "      <th>762</th>\n",
       "      <th>64800</th>\n",
       "      <th>83394</th>\n",
       "      <th>441308</th>\n",
       "      <th>9770</th>\n",
       "      <th>4811</th>\n",
       "      <th>6231</th>\n",
       "      <th>10720</th>\n",
       "      <th>Unnamed: 19450</th>\n",
       "    </tr>\n",
       "    <tr>\n",
       "      <th>genome reference</th>\n",
       "      <th></th>\n",
       "      <th></th>\n",
       "      <th></th>\n",
       "      <th></th>\n",
       "      <th></th>\n",
       "      <th></th>\n",
       "      <th></th>\n",
       "      <th></th>\n",
       "      <th></th>\n",
       "      <th></th>\n",
       "      <th></th>\n",
       "      <th></th>\n",
       "      <th></th>\n",
       "      <th></th>\n",
       "      <th></th>\n",
       "      <th></th>\n",
       "      <th></th>\n",
       "      <th></th>\n",
       "      <th></th>\n",
       "      <th></th>\n",
       "      <th></th>\n",
       "    </tr>\n",
       "  </thead>\n",
       "  <tbody>\n",
       "    <tr>\n",
       "      <th>10020</th>\n",
       "      <td>NaN</td>\n",
       "      <td>46.674058</td>\n",
       "      <td>38.140000</td>\n",
       "      <td>48.780000</td>\n",
       "      <td>38.740000</td>\n",
       "      <td>42.139219</td>\n",
       "      <td>55.680000</td>\n",
       "      <td>46.720000</td>\n",
       "      <td>69.105027</td>\n",
       "      <td>53.980000</td>\n",
       "      <td>...</td>\n",
       "      <td>NaN</td>\n",
       "      <td>49.480000</td>\n",
       "      <td>42.06</td>\n",
       "      <td>44.592176</td>\n",
       "      <td>39.987163</td>\n",
       "      <td>49.220000</td>\n",
       "      <td>58.049571</td>\n",
       "      <td>46.525253</td>\n",
       "      <td>NaN</td>\n",
       "      <td>NaN</td>\n",
       "    </tr>\n",
       "    <tr>\n",
       "      <th>10036</th>\n",
       "      <td>52.420000</td>\n",
       "      <td>52.786885</td>\n",
       "      <td>43.320000</td>\n",
       "      <td>50.460000</td>\n",
       "      <td>48.540000</td>\n",
       "      <td>43.180000</td>\n",
       "      <td>39.640000</td>\n",
       "      <td>46.000000</td>\n",
       "      <td>NaN</td>\n",
       "      <td>53.816327</td>\n",
       "      <td>...</td>\n",
       "      <td>NaN</td>\n",
       "      <td>52.240000</td>\n",
       "      <td>51.10</td>\n",
       "      <td>41.440000</td>\n",
       "      <td>NaN</td>\n",
       "      <td>42.900000</td>\n",
       "      <td>45.960000</td>\n",
       "      <td>45.081247</td>\n",
       "      <td>NaN</td>\n",
       "      <td>NaN</td>\n",
       "    </tr>\n",
       "    <tr>\n",
       "      <th>10047</th>\n",
       "      <td>52.900000</td>\n",
       "      <td>50.520000</td>\n",
       "      <td>48.080000</td>\n",
       "      <td>42.340000</td>\n",
       "      <td>40.600000</td>\n",
       "      <td>44.980000</td>\n",
       "      <td>47.520000</td>\n",
       "      <td>43.080000</td>\n",
       "      <td>NaN</td>\n",
       "      <td>52.580000</td>\n",
       "      <td>...</td>\n",
       "      <td>41.50</td>\n",
       "      <td>53.880000</td>\n",
       "      <td>51.18</td>\n",
       "      <td>41.100000</td>\n",
       "      <td>NaN</td>\n",
       "      <td>43.500000</td>\n",
       "      <td>43.620000</td>\n",
       "      <td>NaN</td>\n",
       "      <td>NaN</td>\n",
       "      <td>NaN</td>\n",
       "    </tr>\n",
       "    <tr>\n",
       "      <th>10090</th>\n",
       "      <td>50.060000</td>\n",
       "      <td>45.020000</td>\n",
       "      <td>44.560000</td>\n",
       "      <td>43.280000</td>\n",
       "      <td>39.800000</td>\n",
       "      <td>46.620000</td>\n",
       "      <td>38.960000</td>\n",
       "      <td>43.340000</td>\n",
       "      <td>NaN</td>\n",
       "      <td>54.060000</td>\n",
       "      <td>...</td>\n",
       "      <td>NaN</td>\n",
       "      <td>48.100000</td>\n",
       "      <td>49.28</td>\n",
       "      <td>51.220000</td>\n",
       "      <td>NaN</td>\n",
       "      <td>48.240000</td>\n",
       "      <td>46.540000</td>\n",
       "      <td>NaN</td>\n",
       "      <td>35.02</td>\n",
       "      <td>NaN</td>\n",
       "    </tr>\n",
       "    <tr>\n",
       "      <th>10093</th>\n",
       "      <td>44.168834</td>\n",
       "      <td>44.760000</td>\n",
       "      <td>44.140000</td>\n",
       "      <td>47.460000</td>\n",
       "      <td>46.060000</td>\n",
       "      <td>47.220000</td>\n",
       "      <td>39.640000</td>\n",
       "      <td>42.943793</td>\n",
       "      <td>52.135076</td>\n",
       "      <td>54.020000</td>\n",
       "      <td>...</td>\n",
       "      <td>NaN</td>\n",
       "      <td>48.360451</td>\n",
       "      <td>50.04</td>\n",
       "      <td>51.530306</td>\n",
       "      <td>NaN</td>\n",
       "      <td>45.000000</td>\n",
       "      <td>47.140000</td>\n",
       "      <td>NaN</td>\n",
       "      <td>NaN</td>\n",
       "      <td>NaN</td>\n",
       "    </tr>\n",
       "    <tr>\n",
       "      <th>...</th>\n",
       "      <td>...</td>\n",
       "      <td>...</td>\n",
       "      <td>...</td>\n",
       "      <td>...</td>\n",
       "      <td>...</td>\n",
       "      <td>...</td>\n",
       "      <td>...</td>\n",
       "      <td>...</td>\n",
       "      <td>...</td>\n",
       "      <td>...</td>\n",
       "      <td>...</td>\n",
       "      <td>...</td>\n",
       "      <td>...</td>\n",
       "      <td>...</td>\n",
       "      <td>...</td>\n",
       "      <td>...</td>\n",
       "      <td>...</td>\n",
       "      <td>...</td>\n",
       "      <td>...</td>\n",
       "      <td>...</td>\n",
       "      <td>...</td>\n",
       "    </tr>\n",
       "    <tr>\n",
       "      <th>9793</th>\n",
       "      <td>NaN</td>\n",
       "      <td>44.183199</td>\n",
       "      <td>38.620000</td>\n",
       "      <td>48.260000</td>\n",
       "      <td>40.660000</td>\n",
       "      <td>42.836812</td>\n",
       "      <td>45.760000</td>\n",
       "      <td>45.180000</td>\n",
       "      <td>NaN</td>\n",
       "      <td>54.940000</td>\n",
       "      <td>...</td>\n",
       "      <td>42.84</td>\n",
       "      <td>63.906628</td>\n",
       "      <td>45.64</td>\n",
       "      <td>35.593220</td>\n",
       "      <td>32.440000</td>\n",
       "      <td>45.144584</td>\n",
       "      <td>51.577549</td>\n",
       "      <td>NaN</td>\n",
       "      <td>NaN</td>\n",
       "      <td>NaN</td>\n",
       "    </tr>\n",
       "    <tr>\n",
       "      <th>9796</th>\n",
       "      <td>NaN</td>\n",
       "      <td>55.480000</td>\n",
       "      <td>41.880000</td>\n",
       "      <td>54.920000</td>\n",
       "      <td>40.680000</td>\n",
       "      <td>50.640000</td>\n",
       "      <td>57.940000</td>\n",
       "      <td>45.620000</td>\n",
       "      <td>52.940000</td>\n",
       "      <td>55.060000</td>\n",
       "      <td>...</td>\n",
       "      <td>NaN</td>\n",
       "      <td>59.300000</td>\n",
       "      <td>45.88</td>\n",
       "      <td>46.460000</td>\n",
       "      <td>NaN</td>\n",
       "      <td>50.240000</td>\n",
       "      <td>47.000000</td>\n",
       "      <td>43.800000</td>\n",
       "      <td>34.66</td>\n",
       "      <td>NaN</td>\n",
       "    </tr>\n",
       "    <tr>\n",
       "      <th>9798</th>\n",
       "      <td>NaN</td>\n",
       "      <td>44.040000</td>\n",
       "      <td>42.764228</td>\n",
       "      <td>40.306448</td>\n",
       "      <td>40.620000</td>\n",
       "      <td>43.100000</td>\n",
       "      <td>57.940000</td>\n",
       "      <td>47.018533</td>\n",
       "      <td>NaN</td>\n",
       "      <td>54.080589</td>\n",
       "      <td>...</td>\n",
       "      <td>NaN</td>\n",
       "      <td>59.466019</td>\n",
       "      <td>45.92</td>\n",
       "      <td>43.647799</td>\n",
       "      <td>32.120000</td>\n",
       "      <td>38.720000</td>\n",
       "      <td>43.700000</td>\n",
       "      <td>42.660000</td>\n",
       "      <td>NaN</td>\n",
       "      <td>NaN</td>\n",
       "    </tr>\n",
       "    <tr>\n",
       "      <th>9978</th>\n",
       "      <td>50.100000</td>\n",
       "      <td>50.860000</td>\n",
       "      <td>50.020000</td>\n",
       "      <td>50.427746</td>\n",
       "      <td>62.521589</td>\n",
       "      <td>43.701226</td>\n",
       "      <td>52.668744</td>\n",
       "      <td>53.040000</td>\n",
       "      <td>46.020000</td>\n",
       "      <td>56.500000</td>\n",
       "      <td>...</td>\n",
       "      <td>NaN</td>\n",
       "      <td>55.780000</td>\n",
       "      <td>57.78</td>\n",
       "      <td>55.199115</td>\n",
       "      <td>NaN</td>\n",
       "      <td>49.960000</td>\n",
       "      <td>45.380000</td>\n",
       "      <td>47.253333</td>\n",
       "      <td>NaN</td>\n",
       "      <td>NaN</td>\n",
       "    </tr>\n",
       "    <tr>\n",
       "      <th>9986</th>\n",
       "      <td>55.940000</td>\n",
       "      <td>51.500000</td>\n",
       "      <td>57.479893</td>\n",
       "      <td>46.860000</td>\n",
       "      <td>42.860000</td>\n",
       "      <td>43.860000</td>\n",
       "      <td>51.260000</td>\n",
       "      <td>47.560000</td>\n",
       "      <td>64.067797</td>\n",
       "      <td>57.840000</td>\n",
       "      <td>...</td>\n",
       "      <td>52.28</td>\n",
       "      <td>60.645575</td>\n",
       "      <td>59.76</td>\n",
       "      <td>43.580000</td>\n",
       "      <td>NaN</td>\n",
       "      <td>56.015277</td>\n",
       "      <td>43.288934</td>\n",
       "      <td>NaN</td>\n",
       "      <td>NaN</td>\n",
       "      <td>NaN</td>\n",
       "    </tr>\n",
       "  </tbody>\n",
       "</table>\n",
       "<p>66 rows × 19450 columns</p>\n",
       "</div>"
      ],
      "text/plain": [
       "                     149685       8992      55255       8399       4233  \\\n",
       "genome reference                                                          \n",
       "10020                   NaN  46.674058  38.140000  48.780000  38.740000   \n",
       "10036             52.420000  52.786885  43.320000  50.460000  48.540000   \n",
       "10047             52.900000  50.520000  48.080000  42.340000  40.600000   \n",
       "10090             50.060000  45.020000  44.560000  43.280000  39.800000   \n",
       "10093             44.168834  44.760000  44.140000  47.460000  46.060000   \n",
       "...                     ...        ...        ...        ...        ...   \n",
       "9793                    NaN  44.183199  38.620000  48.260000  40.660000   \n",
       "9796                    NaN  55.480000  41.880000  54.920000  40.680000   \n",
       "9798                    NaN  44.040000  42.764228  40.306448  40.620000   \n",
       "9978              50.100000  50.860000  50.020000  50.427746  62.521589   \n",
       "9986              55.940000  51.500000  57.479893  46.860000  42.860000   \n",
       "\n",
       "                      51510      11214      51726       4649       4201  ...  \\\n",
       "genome reference                                                         ...   \n",
       "10020             42.139219  55.680000  46.720000  69.105027  53.980000  ...   \n",
       "10036             43.180000  39.640000  46.000000        NaN  53.816327  ...   \n",
       "10047             44.980000  47.520000  43.080000        NaN  52.580000  ...   \n",
       "10090             46.620000  38.960000  43.340000        NaN  54.060000  ...   \n",
       "10093             47.220000  39.640000  42.943793  52.135076  54.020000  ...   \n",
       "...                     ...        ...        ...        ...        ...  ...   \n",
       "9793              42.836812  45.760000  45.180000        NaN  54.940000  ...   \n",
       "9796              50.640000  57.940000  45.620000  52.940000  55.060000  ...   \n",
       "9798              43.100000  57.940000  47.018533        NaN  54.080589  ...   \n",
       "9978              43.701226  52.668744  53.040000  46.020000  56.500000  ...   \n",
       "9986              43.860000  51.260000  47.560000  64.067797  57.840000  ...   \n",
       "\n",
       "                   2629        762  64800      83394     441308       9770  \\\n",
       "genome reference                                                             \n",
       "10020               NaN  49.480000  42.06  44.592176  39.987163  49.220000   \n",
       "10036               NaN  52.240000  51.10  41.440000        NaN  42.900000   \n",
       "10047             41.50  53.880000  51.18  41.100000        NaN  43.500000   \n",
       "10090               NaN  48.100000  49.28  51.220000        NaN  48.240000   \n",
       "10093               NaN  48.360451  50.04  51.530306        NaN  45.000000   \n",
       "...                 ...        ...    ...        ...        ...        ...   \n",
       "9793              42.84  63.906628  45.64  35.593220  32.440000  45.144584   \n",
       "9796                NaN  59.300000  45.88  46.460000        NaN  50.240000   \n",
       "9798                NaN  59.466019  45.92  43.647799  32.120000  38.720000   \n",
       "9978                NaN  55.780000  57.78  55.199115        NaN  49.960000   \n",
       "9986              52.28  60.645575  59.76  43.580000        NaN  56.015277   \n",
       "\n",
       "                       4811       6231  10720  Unnamed: 19450  \n",
       "genome reference                                               \n",
       "10020             58.049571  46.525253    NaN             NaN  \n",
       "10036             45.960000  45.081247    NaN             NaN  \n",
       "10047             43.620000        NaN    NaN             NaN  \n",
       "10090             46.540000        NaN  35.02             NaN  \n",
       "10093             47.140000        NaN    NaN             NaN  \n",
       "...                     ...        ...    ...             ...  \n",
       "9793              51.577549        NaN    NaN             NaN  \n",
       "9796              47.000000  43.800000  34.66             NaN  \n",
       "9798              43.700000  42.660000    NaN             NaN  \n",
       "9978              45.380000  47.253333    NaN             NaN  \n",
       "9986              43.288934        NaN    NaN             NaN  \n",
       "\n",
       "[66 rows x 19450 columns]"
      ]
     },
     "execution_count": 10,
     "metadata": {},
     "output_type": "execute_result"
    }
   ],
   "source": [
    "arraylist[0]"
   ]
  },
  {
   "cell_type": "code",
   "execution_count": 15,
   "metadata": {
    "ExecuteTime": {
     "end_time": "2021-01-01T08:51:03.237420Z",
     "start_time": "2021-01-01T08:51:03.225934Z"
    }
   },
   "outputs": [
    {
     "data": {
      "text/plain": [
       "Int64Index([  10020,   10036,   10047,   10090,   10093,   10141,   10160,\n",
       "              10181,  121530,  125878,   13146,  132908, 1737458,  176946,\n",
       "             181119,  185453, 1868482,  188379,   27679,   28737,   29078,\n",
       "              30538,   30608,  336983,   35019,   36300,   37293,   38654,\n",
       "             419612,   42254,  482537,   48883,   51338,   55661,  591936,\n",
       "              61621,   61622,   79684,  885580,    8954,    9031,    9233,\n",
       "               9238,    9531,    9544,    9555,    9598,    9601,    9685,\n",
       "               9691,    9708,   97097,    9713,    9749,    9785,    9793,\n",
       "               9796,    9798,    9978,    9986],\n",
       "           dtype='int64', name='genome reference')"
      ]
     },
     "execution_count": 15,
     "metadata": {},
     "output_type": "execute_result"
    }
   ],
   "source": [
    "np_list[0].index"
   ]
  },
  {
   "cell_type": "code",
   "execution_count": 27,
   "metadata": {
    "ExecuteTime": {
     "end_time": "2021-01-01T09:29:52.216690Z",
     "start_time": "2021-01-01T09:29:52.210368Z"
    }
   },
   "outputs": [],
   "source": [
    "for i in stackable_arrays:\n",
    "    i.to_numpy()"
   ]
  },
  {
   "cell_type": "code",
   "execution_count": 32,
   "metadata": {
    "ExecuteTime": {
     "end_time": "2021-01-01T09:36:07.044548Z",
     "start_time": "2021-01-01T09:36:07.028606Z"
    }
   },
   "outputs": [
    {
     "data": {
      "text/plain": [
       "(57, 3582)"
      ]
     },
     "execution_count": 32,
     "metadata": {},
     "output_type": "execute_result"
    }
   ],
   "source": [
    "stacked_array.shape"
   ]
  },
  {
   "cell_type": "code",
   "execution_count": null,
   "metadata": {},
   "outputs": [],
   "source": []
  }
 ],
 "metadata": {
  "kernelspec": {
   "display_name": "Python 3",
   "language": "python",
   "name": "python3"
  },
  "language_info": {
   "codemirror_mode": {
    "name": "ipython",
    "version": 3
   },
   "file_extension": ".py",
   "mimetype": "text/x-python",
   "name": "python",
   "nbconvert_exporter": "python",
   "pygments_lexer": "ipython3",
   "version": "3.8.5"
  },
  "varInspector": {
   "cols": {
    "lenName": 16,
    "lenType": 16,
    "lenVar": 40
   },
   "kernels_config": {
    "python": {
     "delete_cmd_postfix": "",
     "delete_cmd_prefix": "del ",
     "library": "var_list.py",
     "varRefreshCmd": "print(var_dic_list())"
    },
    "r": {
     "delete_cmd_postfix": ") ",
     "delete_cmd_prefix": "rm(",
     "library": "var_list.r",
     "varRefreshCmd": "cat(var_dic_list()) "
    }
   },
   "oldHeight": 264.85,
   "position": {
    "height": "40px",
    "left": "956px",
    "right": "20px",
    "top": "100px",
    "width": "318px"
   },
   "types_to_exclude": [
    "module",
    "function",
    "builtin_function_or_method",
    "instance",
    "_Feature"
   ],
   "varInspector_section_display": "none",
   "window_display": true
  }
 },
 "nbformat": 4,
 "nbformat_minor": 4
}
